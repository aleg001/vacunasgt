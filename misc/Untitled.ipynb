{
 "cells": [
  {
   "cell_type": "code",
   "execution_count": 1,
   "id": "0b242756-5110-4a19-8638-1436eac28da9",
   "metadata": {},
   "outputs": [],
   "source": [
    "from __future__ import print_function\n",
    "import os.path\n",
    "from googleapiclient.discovery import build\n",
    "from google_auth_oauthlib.flow import InstalledAppFlow\n",
    "from google.auth.transport.requests import Request\n",
    "from google.oauth2.service_account import Credentials\n",
    "import pandas as pd\n",
    "import numpy as np"
   ]
  },
  {
   "cell_type": "code",
   "execution_count": 2,
   "id": "c79c96a0-78f2-452a-bdd0-a2e05d13c0ca",
   "metadata": {},
   "outputs": [],
   "source": [
    "# The ID and range of a sample spreadsheet.\n",
    "SAMPLE_SPREADSHEET_ID = '1TgGhJQO9XfWN9swtD-L8emANCFP3-MX__Gc6iLnPbW8'\n",
    "SAMPLE_RANGE_NAME = 'Merge Centros, Horario e Info Vacunacion'"
   ]
  },
  {
   "cell_type": "code",
   "execution_count": 3,
   "id": "891d75cf-6dc4-4622-8c57-f5aba39db668",
   "metadata": {},
   "outputs": [],
   "source": [
    "def process_data(df):\n",
    "    df = df[df['DISPONIBILIDAD']=='SI']\n",
    "    return df"
   ]
  },
  {
   "cell_type": "code",
   "execution_count": 4,
   "id": "ab36968b-42e7-4293-b78d-b6f3abd79446",
   "metadata": {},
   "outputs": [],
   "source": [
    "creds = Credentials.from_service_account_file('credentials.json')"
   ]
  },
  {
   "cell_type": "code",
   "execution_count": 5,
   "id": "1ac9d1c7-83b1-40a5-8d90-07a58c926b66",
   "metadata": {},
   "outputs": [],
   "source": [
    "\n",
    "def get_sheets_data():\n",
    "    service = build('sheets', 'v4', credentials=creds)\n",
    "\n",
    "    # Call the Sheets API\n",
    "    sheet = service.spreadsheets()\n",
    "    result = sheet.values().get(spreadsheetId=SAMPLE_SPREADSHEET_ID,\n",
    "                                range=SAMPLE_RANGE_NAME).execute()\n",
    "    values = result.get('values', [])\n",
    "\n",
    "    \n",
    "    if not values:\n",
    "        print('No data found.')\n",
    "    else:\n",
    "        df = pd.DataFrame(values[1:], columns=values[0])\n",
    "    return df"
   ]
  },
  {
   "cell_type": "code",
   "execution_count": 6,
   "id": "97895375-97c8-4d81-ba77-212d52a91183",
   "metadata": {},
   "outputs": [],
   "source": [
    "df = get_sheets_data()"
   ]
  },
  {
   "cell_type": "code",
   "execution_count": 7,
   "id": "0f02f385-f3d9-4cd9-8c50-3ed5bebe9245",
   "metadata": {},
   "outputs": [
    {
     "data": {
      "text/plain": [
       "(282, 23)"
      ]
     },
     "execution_count": 7,
     "metadata": {},
     "output_type": "execute_result"
    }
   ],
   "source": [
    "df.shape"
   ]
  },
  {
   "cell_type": "code",
   "execution_count": 8,
   "id": "6a475b0f-5c47-45ff-8cc7-2c3ade9611a8",
   "metadata": {},
   "outputs": [
    {
     "data": {
      "text/html": [
       "<div>\n",
       "<style scoped>\n",
       "    .dataframe tbody tr th:only-of-type {\n",
       "        vertical-align: middle;\n",
       "    }\n",
       "\n",
       "    .dataframe tbody tr th {\n",
       "        vertical-align: top;\n",
       "    }\n",
       "\n",
       "    .dataframe thead th {\n",
       "        text-align: right;\n",
       "    }\n",
       "</style>\n",
       "<table border=\"1\" class=\"dataframe\">\n",
       "  <thead>\n",
       "    <tr style=\"text-align: right;\">\n",
       "      <th></th>\n",
       "      <th>0</th>\n",
       "    </tr>\n",
       "  </thead>\n",
       "  <tbody>\n",
       "    <tr>\n",
       "      <th>CENTRO</th>\n",
       "      <td>Asamblea de Colegios Profesionales</td>\n",
       "    </tr>\n",
       "    <tr>\n",
       "      <th>VACUNA</th>\n",
       "      <td>SPUTNIK</td>\n",
       "    </tr>\n",
       "    <tr>\n",
       "      <th>DOSIS</th>\n",
       "      <td>PRIMERA</td>\n",
       "    </tr>\n",
       "    <tr>\n",
       "      <th>GRUPO</th>\n",
       "      <td>Mayores de 35 años</td>\n",
       "    </tr>\n",
       "    <tr>\n",
       "      <th>REQUISITO</th>\n",
       "      <td>DPI + REGISTRO</td>\n",
       "    </tr>\n",
       "    <tr>\n",
       "      <th>DISPONIBILIDAD</th>\n",
       "      <td>SI</td>\n",
       "    </tr>\n",
       "    <tr>\n",
       "      <th>DEPARTAMENTOS</th>\n",
       "      <td>GUATEMALA</td>\n",
       "    </tr>\n",
       "    <tr>\n",
       "      <th>MUNICIPIO</th>\n",
       "      <td>GUATEMALA</td>\n",
       "    </tr>\n",
       "    <tr>\n",
       "      <th>DIRECCIÓN</th>\n",
       "      <td>0 calle 15-46, zona 15 Colonia El Maestro</td>\n",
       "    </tr>\n",
       "    <tr>\n",
       "      <th>AFLUENCIA</th>\n",
       "      <td>POCA</td>\n",
       "    </tr>\n",
       "    <tr>\n",
       "      <th>INGRESO</th>\n",
       "      <td>A PIE Y EN CARRO</td>\n",
       "    </tr>\n",
       "    <tr>\n",
       "      <th>OBSERVACIONES</th>\n",
       "      <td>Lunes a Viernes —&gt; 8am - 1pm /\\n\\nTraer copia ...</td>\n",
       "    </tr>\n",
       "    <tr>\n",
       "      <th>Google Maps</th>\n",
       "      <td>https://www.google.com/maps/place/Colegios+Pro...</td>\n",
       "    </tr>\n",
       "    <tr>\n",
       "      <th>DISPONIBILIDAD CENTRO</th>\n",
       "      <td>SI</td>\n",
       "    </tr>\n",
       "    <tr>\n",
       "      <th>HORARIO ENTRE SEMANA</th>\n",
       "      <td>8am - 2pm</td>\n",
       "    </tr>\n",
       "    <tr>\n",
       "      <th>HORARIO FIN DE SEMANA</th>\n",
       "      <td></td>\n",
       "    </tr>\n",
       "    <tr>\n",
       "      <th>LUNES</th>\n",
       "      <td>SI</td>\n",
       "    </tr>\n",
       "    <tr>\n",
       "      <th>MARTES</th>\n",
       "      <td>SI</td>\n",
       "    </tr>\n",
       "    <tr>\n",
       "      <th>MIERCOLES</th>\n",
       "      <td>SI</td>\n",
       "    </tr>\n",
       "    <tr>\n",
       "      <th>JUEVES</th>\n",
       "      <td>SI</td>\n",
       "    </tr>\n",
       "    <tr>\n",
       "      <th>VIERNES</th>\n",
       "      <td>SI</td>\n",
       "    </tr>\n",
       "    <tr>\n",
       "      <th>SABADO</th>\n",
       "      <td>NO</td>\n",
       "    </tr>\n",
       "    <tr>\n",
       "      <th>DOMINGO</th>\n",
       "      <td>NO</td>\n",
       "    </tr>\n",
       "  </tbody>\n",
       "</table>\n",
       "</div>"
      ],
      "text/plain": [
       "                                                                       0\n",
       "CENTRO                                Asamblea de Colegios Profesionales\n",
       "VACUNA                                                           SPUTNIK\n",
       "DOSIS                                                            PRIMERA\n",
       "GRUPO                                                 Mayores de 35 años\n",
       "REQUISITO                                                 DPI + REGISTRO\n",
       "DISPONIBILIDAD                                                        SI\n",
       "DEPARTAMENTOS                                                  GUATEMALA\n",
       "MUNICIPIO                                                      GUATEMALA\n",
       "DIRECCIÓN                      0 calle 15-46, zona 15 Colonia El Maestro\n",
       "AFLUENCIA                                                           POCA\n",
       "INGRESO                                                 A PIE Y EN CARRO\n",
       "OBSERVACIONES          Lunes a Viernes —> 8am - 1pm /\\n\\nTraer copia ...\n",
       "Google Maps            https://www.google.com/maps/place/Colegios+Pro...\n",
       "DISPONIBILIDAD CENTRO                                                 SI\n",
       "HORARIO ENTRE SEMANA                                           8am - 2pm\n",
       "HORARIO FIN DE SEMANA                                                   \n",
       "LUNES                                                                 SI\n",
       "MARTES                                                                SI\n",
       "MIERCOLES                                                             SI\n",
       "JUEVES                                                                SI\n",
       "VIERNES                                                               SI\n",
       "SABADO                                                                NO\n",
       "DOMINGO                                                               NO"
      ]
     },
     "execution_count": 8,
     "metadata": {},
     "output_type": "execute_result"
    }
   ],
   "source": [
    "df.head(1).T"
   ]
  },
  {
   "cell_type": "code",
   "execution_count": 9,
   "id": "4a803ba0-4e19-41c7-9b2d-983f5b59f4c7",
   "metadata": {},
   "outputs": [],
   "source": [
    "def arrange_grouped_vaccines(vaccines):\n",
    "    vaccine_name = vaccines['VACUNA'].iloc[0]\n",
    "    vaccine_dose = vaccines['DOSIS'].iloc[0]\n",
    "\n",
    "    vaccine_dict = {}\n",
    "    groups = vaccines[['GRUPO',\n",
    "                     'REQUISITO',\n",
    "                     'DISPONIBILIDAD']].to_dict('records')\n",
    "    vaccine_dict[f'{vaccine_name} {vaccine_dose}'] = groups\n",
    "    \n",
    "    \n",
    "#     print(vaccine_dict)\n",
    "    \n",
    "\n",
    "    return vaccine_dict"
   ]
  },
  {
   "cell_type": "code",
   "execution_count": 16,
   "id": "c5f54c80-2e1f-4b24-9a7f-6091fe1dc26f",
   "metadata": {},
   "outputs": [],
   "source": [
    "def arrange_grouped_centers(center):\n",
    "    center_days = center[['LUNES','MARTES', 'MIERCOLES', 'JUEVES', 'VIERNES', 'SABADO','DOMINGO']].iloc[0]\n",
    "    center_ex = center.drop(['LUNES',\n",
    "                             'MARTES',\n",
    "                             'MIERCOLES',\n",
    "                             'JUEVES',\n",
    "                             'VIERNES',\n",
    "                             'SABADO',\n",
    "                             'DOMINGO',\n",
    "                             'VACUNA',\n",
    "                             'DOSIS',\n",
    "                             'GRUPO',\n",
    "                             'REQUISITO',\n",
    "                             'DISPONIBILIDAD',\n",
    "#                              'CENTRO'\n",
    "                            ], axis=1).iloc[0]\n",
    "    center_dict = center_ex.to_dict()\n",
    "#     center_dict[center['CENTRO'].iloc[0]] = center_ex.to_dict()\n",
    "    \n",
    "    center_dict['DIAS'] = {\n",
    "        'LUNES' :     np.where(center_days['LUNES'] == 'SI',True,False).item(),\n",
    "        'MARTES' :    np.where(center_days['MARTES'] == 'SI',True,False).item(),\n",
    "        'MIERCOLES' : np.where(center_days['MIERCOLES'] == 'SI',True,False).item(),\n",
    "        'JUEVES' :    np.where(center_days['JUEVES'] == 'SI',True,False).item(),\n",
    "        'VIERNES' :   np.where(center_days['VIERNES'] == 'SI',True,False).item(),\n",
    "        'SABADO' :    np.where(center_days['SABADO'] == 'SI',True,False).item(),\n",
    "        'DOMINGO' :   np.where(center_days['DOMINGO'] == 'SI',True,False).item(),\n",
    "    }\n",
    "    center_dict['HORARIO ENTRE SEMANA'] = center_ex['HORARIO ENTRE SEMANA']\n",
    "    center_dict['HORARIO ENTRE SEMANA'] = center_ex['HORARIO ENTRE SEMANA']\n",
    "    \n",
    "    center_dict['VACUNAS'] = dict(center.groupby('VACUNA').apply(arrange_grouped_vaccines).values)\n",
    "#     pprint.pprint(center_dict)\n",
    "    return center_dict"
   ]
  },
  {
   "cell_type": "code",
   "execution_count": 17,
   "id": "43e44afb-8b9a-4a63-b184-6362638cb0e8",
   "metadata": {},
   "outputs": [
    {
     "ename": "ValueError",
     "evalue": "dictionary update sequence element #0 has length 1; 2 is required",
     "output_type": "error",
     "traceback": [
      "\u001b[0;31m---------------------------------------------------------------------------\u001b[0m",
      "\u001b[0;31mValueError\u001b[0m                                Traceback (most recent call last)",
      "\u001b[0;32m<ipython-input-17-2be9ae7f84bb>\u001b[0m in \u001b[0;36m<module>\u001b[0;34m\u001b[0m\n\u001b[0;32m----> 1\u001b[0;31m \u001b[0mformatted_data\u001b[0m \u001b[0;34m=\u001b[0m \u001b[0mdf\u001b[0m\u001b[0;34m.\u001b[0m\u001b[0mgroupby\u001b[0m\u001b[0;34m(\u001b[0m\u001b[0;34m'CENTRO'\u001b[0m\u001b[0;34m)\u001b[0m\u001b[0;34m.\u001b[0m\u001b[0mapply\u001b[0m\u001b[0;34m(\u001b[0m\u001b[0marrange_grouped_centers\u001b[0m\u001b[0;34m)\u001b[0m\u001b[0;34m\u001b[0m\u001b[0m\n\u001b[0m",
      "\u001b[0;32m~/opt/miniconda3/envs/alma/lib/python3.7/site-packages/pandas/core/groupby/groupby.py\u001b[0m in \u001b[0;36mapply\u001b[0;34m(self, func, *args, **kwargs)\u001b[0m\n\u001b[1;32m    857\u001b[0m         \u001b[0;32mwith\u001b[0m \u001b[0moption_context\u001b[0m\u001b[0;34m(\u001b[0m\u001b[0;34m\"mode.chained_assignment\"\u001b[0m\u001b[0;34m,\u001b[0m \u001b[0;32mNone\u001b[0m\u001b[0;34m)\u001b[0m\u001b[0;34m:\u001b[0m\u001b[0;34m\u001b[0m\u001b[0m\n\u001b[1;32m    858\u001b[0m             \u001b[0;32mtry\u001b[0m\u001b[0;34m:\u001b[0m\u001b[0;34m\u001b[0m\u001b[0m\n\u001b[0;32m--> 859\u001b[0;31m                 \u001b[0mresult\u001b[0m \u001b[0;34m=\u001b[0m \u001b[0mself\u001b[0m\u001b[0;34m.\u001b[0m\u001b[0m_python_apply_general\u001b[0m\u001b[0;34m(\u001b[0m\u001b[0mf\u001b[0m\u001b[0;34m,\u001b[0m \u001b[0mself\u001b[0m\u001b[0;34m.\u001b[0m\u001b[0m_selected_obj\u001b[0m\u001b[0;34m)\u001b[0m\u001b[0;34m\u001b[0m\u001b[0m\n\u001b[0m\u001b[1;32m    860\u001b[0m             \u001b[0;32mexcept\u001b[0m \u001b[0mTypeError\u001b[0m\u001b[0;34m:\u001b[0m\u001b[0;34m\u001b[0m\u001b[0m\n\u001b[1;32m    861\u001b[0m                 \u001b[0;31m# gh-20949\u001b[0m\u001b[0;34m\u001b[0m\u001b[0;34m\u001b[0m\u001b[0m\n",
      "\u001b[0;32m~/opt/miniconda3/envs/alma/lib/python3.7/site-packages/pandas/core/groupby/groupby.py\u001b[0m in \u001b[0;36m_python_apply_general\u001b[0;34m(self, f, data)\u001b[0m\n\u001b[1;32m    890\u001b[0m             \u001b[0mdata\u001b[0m \u001b[0mafter\u001b[0m \u001b[0mapplying\u001b[0m \u001b[0mf\u001b[0m\u001b[0;34m\u001b[0m\u001b[0m\n\u001b[1;32m    891\u001b[0m         \"\"\"\n\u001b[0;32m--> 892\u001b[0;31m         \u001b[0mkeys\u001b[0m\u001b[0;34m,\u001b[0m \u001b[0mvalues\u001b[0m\u001b[0;34m,\u001b[0m \u001b[0mmutated\u001b[0m \u001b[0;34m=\u001b[0m \u001b[0mself\u001b[0m\u001b[0;34m.\u001b[0m\u001b[0mgrouper\u001b[0m\u001b[0;34m.\u001b[0m\u001b[0mapply\u001b[0m\u001b[0;34m(\u001b[0m\u001b[0mf\u001b[0m\u001b[0;34m,\u001b[0m \u001b[0mdata\u001b[0m\u001b[0;34m,\u001b[0m \u001b[0mself\u001b[0m\u001b[0;34m.\u001b[0m\u001b[0maxis\u001b[0m\u001b[0;34m)\u001b[0m\u001b[0;34m\u001b[0m\u001b[0m\n\u001b[0m\u001b[1;32m    893\u001b[0m \u001b[0;34m\u001b[0m\u001b[0m\n\u001b[1;32m    894\u001b[0m         return self._wrap_applied_output(\n",
      "\u001b[0;32m~/opt/miniconda3/envs/alma/lib/python3.7/site-packages/pandas/core/groupby/ops.py\u001b[0m in \u001b[0;36mapply\u001b[0;34m(self, f, data, axis)\u001b[0m\n\u001b[1;32m    218\u001b[0m             \u001b[0;31m# group might be modified\u001b[0m\u001b[0;34m\u001b[0m\u001b[0;34m\u001b[0m\u001b[0m\n\u001b[1;32m    219\u001b[0m             \u001b[0mgroup_axes\u001b[0m \u001b[0;34m=\u001b[0m \u001b[0mgroup\u001b[0m\u001b[0;34m.\u001b[0m\u001b[0maxes\u001b[0m\u001b[0;34m\u001b[0m\u001b[0m\n\u001b[0;32m--> 220\u001b[0;31m             \u001b[0mres\u001b[0m \u001b[0;34m=\u001b[0m \u001b[0mf\u001b[0m\u001b[0;34m(\u001b[0m\u001b[0mgroup\u001b[0m\u001b[0;34m)\u001b[0m\u001b[0;34m\u001b[0m\u001b[0m\n\u001b[0m\u001b[1;32m    221\u001b[0m             \u001b[0;32mif\u001b[0m \u001b[0;32mnot\u001b[0m \u001b[0m_is_indexed_like\u001b[0m\u001b[0;34m(\u001b[0m\u001b[0mres\u001b[0m\u001b[0;34m,\u001b[0m \u001b[0mgroup_axes\u001b[0m\u001b[0;34m)\u001b[0m\u001b[0;34m:\u001b[0m\u001b[0;34m\u001b[0m\u001b[0m\n\u001b[1;32m    222\u001b[0m                 \u001b[0mmutated\u001b[0m \u001b[0;34m=\u001b[0m \u001b[0;32mTrue\u001b[0m\u001b[0;34m\u001b[0m\u001b[0m\n",
      "\u001b[0;32m<ipython-input-16-d46ea227e904>\u001b[0m in \u001b[0;36marrange_grouped_centers\u001b[0;34m(center)\u001b[0m\n\u001b[1;32m     30\u001b[0m     \u001b[0mcenter_dict\u001b[0m\u001b[0;34m[\u001b[0m\u001b[0;34m'HORARIO ENTRE SEMANA'\u001b[0m\u001b[0;34m]\u001b[0m \u001b[0;34m=\u001b[0m \u001b[0mcenter_ex\u001b[0m\u001b[0;34m[\u001b[0m\u001b[0;34m'HORARIO ENTRE SEMANA'\u001b[0m\u001b[0;34m]\u001b[0m\u001b[0;34m\u001b[0m\u001b[0m\n\u001b[1;32m     31\u001b[0m \u001b[0;34m\u001b[0m\u001b[0m\n\u001b[0;32m---> 32\u001b[0;31m     \u001b[0mcenter_dict\u001b[0m\u001b[0;34m[\u001b[0m\u001b[0;34m'VACUNAS'\u001b[0m\u001b[0;34m]\u001b[0m \u001b[0;34m=\u001b[0m \u001b[0mdict\u001b[0m\u001b[0;34m(\u001b[0m\u001b[0mcenter\u001b[0m\u001b[0;34m.\u001b[0m\u001b[0mgroupby\u001b[0m\u001b[0;34m(\u001b[0m\u001b[0;34m'VACUNA'\u001b[0m\u001b[0;34m)\u001b[0m\u001b[0;34m.\u001b[0m\u001b[0mapply\u001b[0m\u001b[0;34m(\u001b[0m\u001b[0marrange_grouped_vaccines\u001b[0m\u001b[0;34m)\u001b[0m\u001b[0;34m.\u001b[0m\u001b[0mvalues\u001b[0m\u001b[0;34m)\u001b[0m\u001b[0;34m\u001b[0m\u001b[0m\n\u001b[0m\u001b[1;32m     33\u001b[0m \u001b[0;31m#     pprint.pprint(center_dict)\u001b[0m\u001b[0;34m\u001b[0m\u001b[0;34m\u001b[0m\u001b[0m\n\u001b[1;32m     34\u001b[0m     \u001b[0;32mreturn\u001b[0m \u001b[0mcenter_dict\u001b[0m\u001b[0;34m\u001b[0m\u001b[0m\n",
      "\u001b[0;31mValueError\u001b[0m: dictionary update sequence element #0 has length 1; 2 is required"
     ]
    }
   ],
   "source": [
    "formatted_data = df.groupby('CENTRO').apply(arrange_grouped_centers)"
   ]
  },
  {
   "cell_type": "code",
   "execution_count": 21,
   "id": "21a22971-d5fe-4403-ba17-d98c952875b1",
   "metadata": {},
   "outputs": [
    {
     "data": {
      "text/plain": [
       "[{'SPUTNIK PRIMERA': [{'GRUPO': 'Registrados',\n",
       "    'REQUISITO': 'DPI + REGISTRO',\n",
       "    'DISPONIBILIDAD': 'SI'}]}]"
      ]
     },
     "execution_count": 21,
     "metadata": {},
     "output_type": "execute_result"
    }
   ],
   "source": [
    "formatted_data.values[0]['VACUNAS']"
   ]
  },
  {
   "cell_type": "code",
   "execution_count": 211,
   "id": "d589141a-1e0c-4e8c-906b-4c707e5bc9c1",
   "metadata": {},
   "outputs": [
    {
     "ename": "ValueError",
     "evalue": "A document must have an even number of path elements",
     "output_type": "error",
     "traceback": [
      "\u001b[0;31m---------------------------------------------------------------------------\u001b[0m",
      "\u001b[0;31mValueError\u001b[0m                                Traceback (most recent call last)",
      "\u001b[0;32m<ipython-input-211-25780d6645ec>\u001b[0m in \u001b[0;36m<module>\u001b[0;34m\u001b[0m\n\u001b[1;32m     17\u001b[0m \u001b[0;34m\u001b[0m\u001b[0m\n\u001b[1;32m     18\u001b[0m     \u001b[0mdb\u001b[0m\u001b[0;34m.\u001b[0m\u001b[0mcollection\u001b[0m\u001b[0;34m(\u001b[0m\u001b[0mcollection\u001b[0m\u001b[0;34m)\u001b[0m\u001b[0;31m\\\u001b[0m\u001b[0;34m\u001b[0m\u001b[0m\n\u001b[0;32m---> 19\u001b[0;31m       \u001b[0;34m.\u001b[0m\u001b[0mdocument\u001b[0m\u001b[0;34m(\u001b[0m\u001b[0mcenter\u001b[0m\u001b[0;34m[\u001b[0m\u001b[0;34m'CENTRO'\u001b[0m\u001b[0;34m]\u001b[0m\u001b[0;34m)\u001b[0m\u001b[0;31m\\\u001b[0m\u001b[0;34m\u001b[0m\u001b[0m\n\u001b[0m\u001b[1;32m     20\u001b[0m       \u001b[0;34m.\u001b[0m\u001b[0mset\u001b[0m\u001b[0;34m(\u001b[0m\u001b[0mcenter\u001b[0m\u001b[0;34m)\u001b[0m\u001b[0;34m\u001b[0m\u001b[0m\n\u001b[1;32m     21\u001b[0m \u001b[0;34m\u001b[0m\u001b[0m\n",
      "\u001b[0;32m~/opt/miniconda3/envs/alma/lib/python3.7/site-packages/google/cloud/firestore_v1/base_collection.py\u001b[0m in \u001b[0;36mdocument\u001b[0;34m(self, document_id)\u001b[0m\n\u001b[1;32m    125\u001b[0m \u001b[0;34m\u001b[0m\u001b[0m\n\u001b[1;32m    126\u001b[0m         \u001b[0mchild_path\u001b[0m \u001b[0;34m=\u001b[0m \u001b[0mself\u001b[0m\u001b[0;34m.\u001b[0m\u001b[0m_path\u001b[0m \u001b[0;34m+\u001b[0m \u001b[0;34m(\u001b[0m\u001b[0mdocument_id\u001b[0m\u001b[0;34m,\u001b[0m\u001b[0;34m)\u001b[0m\u001b[0;34m\u001b[0m\u001b[0m\n\u001b[0;32m--> 127\u001b[0;31m         \u001b[0;32mreturn\u001b[0m \u001b[0mself\u001b[0m\u001b[0;34m.\u001b[0m\u001b[0m_client\u001b[0m\u001b[0;34m.\u001b[0m\u001b[0mdocument\u001b[0m\u001b[0;34m(\u001b[0m\u001b[0;34m*\u001b[0m\u001b[0mchild_path\u001b[0m\u001b[0;34m)\u001b[0m\u001b[0;34m\u001b[0m\u001b[0m\n\u001b[0m\u001b[1;32m    128\u001b[0m \u001b[0;34m\u001b[0m\u001b[0m\n\u001b[1;32m    129\u001b[0m     \u001b[0;32mdef\u001b[0m \u001b[0m_parent_info\u001b[0m\u001b[0;34m(\u001b[0m\u001b[0mself\u001b[0m\u001b[0;34m)\u001b[0m \u001b[0;34m->\u001b[0m \u001b[0mTuple\u001b[0m\u001b[0;34m[\u001b[0m\u001b[0mAny\u001b[0m\u001b[0;34m,\u001b[0m \u001b[0mstr\u001b[0m\u001b[0;34m]\u001b[0m\u001b[0;34m:\u001b[0m\u001b[0;34m\u001b[0m\u001b[0m\n",
      "\u001b[0;32m~/opt/miniconda3/envs/alma/lib/python3.7/site-packages/google/cloud/firestore_v1/client.py\u001b[0m in \u001b[0;36mdocument\u001b[0;34m(self, *document_path)\u001b[0m\n\u001b[1;32m    203\u001b[0m         \"\"\"\n\u001b[1;32m    204\u001b[0m         return DocumentReference(\n\u001b[0;32m--> 205\u001b[0;31m             \u001b[0;34m*\u001b[0m\u001b[0mself\u001b[0m\u001b[0;34m.\u001b[0m\u001b[0m_document_path_helper\u001b[0m\u001b[0;34m(\u001b[0m\u001b[0;34m*\u001b[0m\u001b[0mdocument_path\u001b[0m\u001b[0;34m)\u001b[0m\u001b[0;34m,\u001b[0m \u001b[0mclient\u001b[0m\u001b[0;34m=\u001b[0m\u001b[0mself\u001b[0m\u001b[0;34m\u001b[0m\u001b[0m\n\u001b[0m\u001b[1;32m    206\u001b[0m         )\n\u001b[1;32m    207\u001b[0m \u001b[0;34m\u001b[0m\u001b[0m\n",
      "\u001b[0;32m~/opt/miniconda3/envs/alma/lib/python3.7/site-packages/google/cloud/firestore_v1/document.py\u001b[0m in \u001b[0;36m__init__\u001b[0;34m(self, *path, **kwargs)\u001b[0m\n\u001b[1;32m     58\u001b[0m \u001b[0;34m\u001b[0m\u001b[0m\n\u001b[1;32m     59\u001b[0m     \u001b[0;32mdef\u001b[0m \u001b[0m__init__\u001b[0m\u001b[0;34m(\u001b[0m\u001b[0mself\u001b[0m\u001b[0;34m,\u001b[0m \u001b[0;34m*\u001b[0m\u001b[0mpath\u001b[0m\u001b[0;34m,\u001b[0m \u001b[0;34m**\u001b[0m\u001b[0mkwargs\u001b[0m\u001b[0;34m)\u001b[0m \u001b[0;34m->\u001b[0m \u001b[0;32mNone\u001b[0m\u001b[0;34m:\u001b[0m\u001b[0;34m\u001b[0m\u001b[0m\n\u001b[0;32m---> 60\u001b[0;31m         \u001b[0msuper\u001b[0m\u001b[0;34m(\u001b[0m\u001b[0mDocumentReference\u001b[0m\u001b[0;34m,\u001b[0m \u001b[0mself\u001b[0m\u001b[0;34m)\u001b[0m\u001b[0;34m.\u001b[0m\u001b[0m__init__\u001b[0m\u001b[0;34m(\u001b[0m\u001b[0;34m*\u001b[0m\u001b[0mpath\u001b[0m\u001b[0;34m,\u001b[0m \u001b[0;34m**\u001b[0m\u001b[0mkwargs\u001b[0m\u001b[0;34m)\u001b[0m\u001b[0;34m\u001b[0m\u001b[0m\n\u001b[0m\u001b[1;32m     61\u001b[0m \u001b[0;34m\u001b[0m\u001b[0m\n\u001b[1;32m     62\u001b[0m     def create(\n",
      "\u001b[0;32m~/opt/miniconda3/envs/alma/lib/python3.7/site-packages/google/cloud/firestore_v1/base_document.py\u001b[0m in \u001b[0;36m__init__\u001b[0;34m(self, *path, **kwargs)\u001b[0m\n\u001b[1;32m     57\u001b[0m \u001b[0;34m\u001b[0m\u001b[0m\n\u001b[1;32m     58\u001b[0m     \u001b[0;32mdef\u001b[0m \u001b[0m__init__\u001b[0m\u001b[0;34m(\u001b[0m\u001b[0mself\u001b[0m\u001b[0;34m,\u001b[0m \u001b[0;34m*\u001b[0m\u001b[0mpath\u001b[0m\u001b[0;34m,\u001b[0m \u001b[0;34m**\u001b[0m\u001b[0mkwargs\u001b[0m\u001b[0;34m)\u001b[0m \u001b[0;34m->\u001b[0m \u001b[0;32mNone\u001b[0m\u001b[0;34m:\u001b[0m\u001b[0;34m\u001b[0m\u001b[0m\n\u001b[0;32m---> 59\u001b[0;31m         \u001b[0m_helpers\u001b[0m\u001b[0;34m.\u001b[0m\u001b[0mverify_path\u001b[0m\u001b[0;34m(\u001b[0m\u001b[0mpath\u001b[0m\u001b[0;34m,\u001b[0m \u001b[0mis_collection\u001b[0m\u001b[0;34m=\u001b[0m\u001b[0;32mFalse\u001b[0m\u001b[0;34m)\u001b[0m\u001b[0;34m\u001b[0m\u001b[0m\n\u001b[0m\u001b[1;32m     60\u001b[0m         \u001b[0mself\u001b[0m\u001b[0;34m.\u001b[0m\u001b[0m_path\u001b[0m \u001b[0;34m=\u001b[0m \u001b[0mpath\u001b[0m\u001b[0;34m\u001b[0m\u001b[0m\n\u001b[1;32m     61\u001b[0m         \u001b[0mself\u001b[0m\u001b[0;34m.\u001b[0m\u001b[0m_client\u001b[0m \u001b[0;34m=\u001b[0m \u001b[0mkwargs\u001b[0m\u001b[0;34m.\u001b[0m\u001b[0mpop\u001b[0m\u001b[0;34m(\u001b[0m\u001b[0;34m\"client\"\u001b[0m\u001b[0;34m,\u001b[0m \u001b[0;32mNone\u001b[0m\u001b[0;34m)\u001b[0m\u001b[0;34m\u001b[0m\u001b[0m\n",
      "\u001b[0;32m~/opt/miniconda3/envs/alma/lib/python3.7/site-packages/google/cloud/firestore_v1/_helpers.py\u001b[0m in \u001b[0;36mverify_path\u001b[0;34m(path, is_collection)\u001b[0m\n\u001b[1;32m    134\u001b[0m     \u001b[0;32melse\u001b[0m\u001b[0;34m:\u001b[0m\u001b[0;34m\u001b[0m\u001b[0m\n\u001b[1;32m    135\u001b[0m         \u001b[0;32mif\u001b[0m \u001b[0mnum_elements\u001b[0m \u001b[0;34m%\u001b[0m \u001b[0;36m2\u001b[0m \u001b[0;34m==\u001b[0m \u001b[0;36m1\u001b[0m\u001b[0;34m:\u001b[0m\u001b[0;34m\u001b[0m\u001b[0m\n\u001b[0;32m--> 136\u001b[0;31m             \u001b[0;32mraise\u001b[0m \u001b[0mValueError\u001b[0m\u001b[0;34m(\u001b[0m\u001b[0;34m\"A document must have an even number of path elements\"\u001b[0m\u001b[0;34m)\u001b[0m\u001b[0;34m\u001b[0m\u001b[0m\n\u001b[0m\u001b[1;32m    137\u001b[0m \u001b[0;34m\u001b[0m\u001b[0m\n\u001b[1;32m    138\u001b[0m     \u001b[0;32mfor\u001b[0m \u001b[0melement\u001b[0m \u001b[0;32min\u001b[0m \u001b[0mpath\u001b[0m\u001b[0;34m:\u001b[0m\u001b[0;34m\u001b[0m\u001b[0m\n",
      "\u001b[0;31mValueError\u001b[0m: A document must have an even number of path elements"
     ]
    }
   ],
   "source": [
    "import firebase_admin\n",
    "from firebase_admin import firestore\n",
    "from firebase_admin import credentials\n",
    "import pandas as pd\n",
    "import json\n",
    "\n",
    "cred_prod = credentials.Certificate('covid-19-bot-9b888fc679a7.json')\n",
    "app_prod = firebase_admin.initialize_app(cred_prod,name='prod_2')\n",
    "# cred_dev = credentials.Certificate('alma--dev-c17a0a927700.json')\n",
    "# app_dev = firebase_admin.initialize_app(cred_dev,name='dev')\n",
    "\n",
    "db = firestore.client(app=app_prod)\n",
    "\n",
    "collection = 'centros_vacunacion'\n",
    "\n",
    "for center in formatted_data.values:\n",
    "    \n",
    "    db.collection(collection)\\\n",
    "      .document(center['CENTRO'])\\\n",
    "      .set(center)\n",
    "\n",
    "  \n"
   ]
  },
  {
   "cell_type": "code",
   "execution_count": null,
   "id": "b9bd08ca-db50-488c-a762-ae012c1624f2",
   "metadata": {},
   "outputs": [],
   "source": []
  }
 ],
 "metadata": {
  "kernelspec": {
   "display_name": "Python 3",
   "language": "python",
   "name": "python3"
  },
  "language_info": {
   "codemirror_mode": {
    "name": "ipython",
    "version": 3
   },
   "file_extension": ".py",
   "mimetype": "text/x-python",
   "name": "python",
   "nbconvert_exporter": "python",
   "pygments_lexer": "ipython3",
   "version": "3.7.0"
  }
 },
 "nbformat": 4,
 "nbformat_minor": 5
}
